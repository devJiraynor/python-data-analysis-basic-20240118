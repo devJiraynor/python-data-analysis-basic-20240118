{
 "cells": [
  {
   "cell_type": "code",
   "execution_count": null,
   "metadata": {},
   "outputs": [],
   "source": [
    "# 반복문\n",
    "# for 반복문: 반복할 횟수가 정해져있는 반복 작업에서 사용\n",
    "# for 변수 in range(반복횟수):\n",
    "#   반복할 실행문"
   ]
  },
  {
   "cell_type": "code",
   "execution_count": null,
   "metadata": {},
   "outputs": [],
   "source": [
    "# for (int index = 0; index < 5; index++) {}  - X\n",
    "\n",
    "# int[] array = {0, 1, 2, 3, 4};\n",
    "# for (int index: array) {} - O\n",
    "\n",
    "# range(정수): 0부터 정수-1 까지의 정수 리스트 생성\n",
    "# range(시작 정수, 종료 정수): 시작 정수부터 종료 정수-1 까지의 정수 리스트 생성\n",
    "# range(시작 정수, 종료 정수, 차이정수): 시작 정수부터 종료 정수-1 까지의 정수 리스트를 생성하는데 차이정수 만큼의 차이를 가지며 변경됨\n",
    "\n",
    "for index in range(5):\n",
    "    print(index)\n",
    "\n",
    "for index in range(5, 10):\n",
    "    print(index)\n",
    "\n",
    "for index in range(5, 10, 3):\n",
    "    print(index)\n",
    "\n",
    "for index in range(10, -1, -1):\n",
    "    print(index)"
   ]
  },
  {
   "cell_type": "code",
   "execution_count": null,
   "metadata": {},
   "outputs": [],
   "source": [
    "for count in range(1, 11):\n",
    "    print(\"*\" * count)"
   ]
  },
  {
   "cell_type": "code",
   "execution_count": null,
   "metadata": {},
   "outputs": [],
   "source": [
    "for count in range(10, 0, -1):\n",
    "    print(\"*\" * count)"
   ]
  },
  {
   "cell_type": "code",
   "execution_count": null,
   "metadata": {},
   "outputs": [],
   "source": [
    "for count in range(1, 20):\n",
    "    if count <= 10:\n",
    "        print(\"*\" * count)\n",
    "    else:\n",
    "        print(\"*\" * (20 - count))"
   ]
  },
  {
   "cell_type": "code",
   "execution_count": null,
   "metadata": {},
   "outputs": [],
   "source": [
    "for count in range(1, 12):\n",
    "    if count <= 6:\n",
    "        print(\" \" * (6 - count) + \"*\" * (count * 2 - 1))\n",
    "    else:\n",
    "        print(\" \" * (count - 6) + \"*\" * ((12 - count) * 2 - 1))"
   ]
  },
  {
   "cell_type": "code",
   "execution_count": null,
   "metadata": {},
   "outputs": [],
   "source": [
    "for count in range(1, 12):\n",
    "    star = \"*\"\n",
    "    if count <= 6:\n",
    "        star = \"*\" * (count * 2 - 1)\n",
    "    else:\n",
    "        star = \"*\" * ((12 - count) * 2 - 1)\n",
    "    print(f'{star:^11}')"
   ]
  }
 ],
 "metadata": {
  "kernelspec": {
   "display_name": "Python 3",
   "language": "python",
   "name": "python3"
  },
  "language_info": {
   "codemirror_mode": {
    "name": "ipython",
    "version": 3
   },
   "file_extension": ".py",
   "mimetype": "text/x-python",
   "name": "python",
   "nbconvert_exporter": "python",
   "pygments_lexer": "ipython3",
   "version": "3.12.2"
  }
 },
 "nbformat": 4,
 "nbformat_minor": 2
}
