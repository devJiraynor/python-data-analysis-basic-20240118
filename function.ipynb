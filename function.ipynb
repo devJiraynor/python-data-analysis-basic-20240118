{
 "cells": [
  {
   "cell_type": "code",
   "execution_count": null,
   "metadata": {},
   "outputs": [],
   "source": [
    "# 함수: 실행할 코드를 미리 지정해 두는 것\n",
    "# def 함수명 (매개변수[,...]):\n",
    "#     실행문\n",
    "#     return 결과"
   ]
  },
  {
   "cell_type": "code",
   "execution_count": null,
   "metadata": {},
   "outputs": [],
   "source": [
    "# 짝수가 입력되면 짝수라는 문자열을, 홀수가 입력되면 홀수라는 문자열을 반환하는 함수를 만든다."
   ]
  },
  {
   "cell_type": "code",
   "execution_count": 1,
   "metadata": {},
   "outputs": [],
   "source": [
    "def check (number):\n",
    "    # 삼항 연산자\n",
    "    # 다른언어 - 조건 ? (true일 때) : (false일 때)\n",
    "    # 파이썬 - (true일 때) if 조건 else (false일 때)\n",
    "    result = '짝수' if number % 2 == 0 else '홀수'\n",
    "    return result"
   ]
  },
  {
   "cell_type": "code",
   "execution_count": 3,
   "metadata": {},
   "outputs": [
    {
     "data": {
      "text/plain": [
       "'짝수'"
      ]
     },
     "execution_count": 3,
     "metadata": {},
     "output_type": "execute_result"
    }
   ],
   "source": [
    "check(6)"
   ]
  },
  {
   "cell_type": "code",
   "execution_count": null,
   "metadata": {},
   "outputs": [],
   "source": [
    "# 1, 3, 5, 7, 8, 10, 12 월은 31일, 4, 6, 9, 11월은 30일, 2월은 28일이다. 월을 나타내는 숫자를 입력하면 그 달의 날짜 수를 반환하는 함수 days1 를 만든다."
   ]
  },
  {
   "cell_type": "code",
   "execution_count": 8,
   "metadata": {},
   "outputs": [],
   "source": [
    "def days1 (month):\n",
    "    result = 28\n",
    "\n",
    "    if month == 1 or month == 3 or month == 5 or month == 7 or month == 8 or month == 10 or month == 12:\n",
    "        result = 31\n",
    "    elif month == 4 or month == 6 or month == 9 or month == 11:\n",
    "        result = 30\n",
    "    \n",
    "    return result"
   ]
  },
  {
   "cell_type": "code",
   "execution_count": 10,
   "metadata": {},
   "outputs": [
    {
     "data": {
      "text/plain": [
       "31"
      ]
     },
     "execution_count": 10,
     "metadata": {},
     "output_type": "execute_result"
    }
   ],
   "source": [
    "days1(1)"
   ]
  },
  {
   "cell_type": "code",
   "execution_count": null,
   "metadata": {},
   "outputs": [],
   "source": [
    "# 파이썬의 함수는 return으로 여러 개의 결과를 반환 가능\n",
    "# def 함수명 (매개변수[,...]):\n",
    "#   return 반환값1, 반환값2\n",
    "\n",
    "# 변수 = 함수명(매개변수)\n",
    "# 변수1, 변수2 = 함수명(매개변수)"
   ]
  },
  {
   "cell_type": "code",
   "execution_count": 11,
   "metadata": {},
   "outputs": [],
   "source": [
    "def func1 ():\n",
    "    return 1, 2"
   ]
  },
  {
   "cell_type": "code",
   "execution_count": 13,
   "metadata": {},
   "outputs": [
    {
     "name": "stdout",
     "output_type": "stream",
     "text": [
      "1, 2\n",
      "(1, 2)\n"
     ]
    }
   ],
   "source": [
    "x, y = func1()\n",
    "print(f'{x}, {y}')\n",
    "z = func1()\n",
    "print(f'{z}')"
   ]
  }
 ],
 "metadata": {
  "kernelspec": {
   "display_name": "Python 3",
   "language": "python",
   "name": "python3"
  },
  "language_info": {
   "codemirror_mode": {
    "name": "ipython",
    "version": 3
   },
   "file_extension": ".py",
   "mimetype": "text/x-python",
   "name": "python",
   "nbconvert_exporter": "python",
   "pygments_lexer": "ipython3",
   "version": "3.12.2"
  }
 },
 "nbformat": 4,
 "nbformat_minor": 2
}
